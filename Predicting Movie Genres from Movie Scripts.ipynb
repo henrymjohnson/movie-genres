{
 "cells": [
  {
   "cell_type": "markdown",
   "metadata": {},
   "source": [
    "# Predicting Movie Genres from Script Data\n",
    "\n",
    "In this notebook, we create models to predict movie genres based on their scripts. Afterward, we look into the accuracy of these models."
   ]
  },
  {
   "cell_type": "markdown",
   "metadata": {},
   "source": [
    "\n",
    "1. Contents\n",
    "2. Setup\n",
    "3. Pre-Processing\n",
    "4. Data Exploration \n",
    "5. Multi-Label Classification\n",
    "    1. k-Nearest Neighbors (k-NN)\n",
    "    2. OneVsRestClassifier\n",
    "        1. Naïve Bayes\n",
    "        2. Linear with Stochastic Gradient Descent\n",
    "        3. Logistic Regression with SVD-Transformed Texts\n",
    "7. Accuracy Summary\n",
    "8. Sources"
   ]
  },
  {
   "cell_type": "markdown",
   "metadata": {},
   "source": [
    "## Setup"
   ]
  },
  {
   "cell_type": "code",
   "execution_count": 1,
   "metadata": {},
   "outputs": [],
   "source": [
    "import pandas as pd\n",
    "import numpy as np\n",
    "import seaborn as sns\n",
    "import os"
   ]
  },
  {
   "cell_type": "code",
   "execution_count": 2,
   "metadata": {},
   "outputs": [],
   "source": [
    "from sklearn.feature_extraction.text import TfidfVectorizer, ENGLISH_STOP_WORDS\n",
    "from sklearn.decomposition import TruncatedSVD\n",
    "from sklearn.pipeline import Pipeline\n",
    "from sklearn.naive_bayes import MultinomialNB\n",
    "from sklearn.metrics import accuracy_score\n",
    "from sklearn.neighbors import KNeighborsClassifier\n",
    "from sklearn.model_selection import GridSearchCV\n",
    "from sklearn.multiclass import OneVsRestClassifier\n",
    "from sklearn.linear_model import LogisticRegression, SGDClassifier"
   ]
  },
  {
   "cell_type": "code",
   "execution_count": 3,
   "metadata": {},
   "outputs": [],
   "source": [
    "from imsdb import get_imsdb\n",
    "from clean_imsdb import clean_imsdb\n",
    "from fuzzy import fuzz_merge"
   ]
  },
  {
   "cell_type": "code",
   "execution_count": 4,
   "metadata": {},
   "outputs": [],
   "source": [
    " # Create random state\n",
    "rng = np.random.RandomState(20201118)\n",
    "\n",
    "# Make plot colors a bit more accessible\n",
    "sns.set_palette('colorblind');\n",
    "\n",
    "# Number of jobs to run in parallel\n",
    "NJOBS = 8"
   ]
  },
  {
   "cell_type": "markdown",
   "metadata": {},
   "source": [
    "## Pre-Processing"
   ]
  },
  {
   "cell_type": "markdown",
   "metadata": {},
   "source": [
    "Before getting anything, we'll need to get the movie script data. We can use the file `imsdb.py` to obtain movie script data. The function `get_imsdb()` uses `BeautifulSoup` to scrape IMSDB in order to obtain the movie scripts and metadata and then writes that information out for our consumption. We lifted the majority of the code from a [repo created by Aveek Sasha](https://github.com/Aveek-Saha/Movie-Script-Database). (Originally, we planned to just use his project for this. But for some reason his project wouldn't run as is.) It takes about 11 minutes to run on our computers."
   ]
  },
  {
   "cell_type": "code",
   "execution_count": 5,
   "metadata": {},
   "outputs": [
    {
     "name": "stderr",
     "output_type": "stream",
     "text": [
      "imsdb:   2%|▏         | 21/1211 [00:18<22:38,  1.14s/it]"
     ]
    },
    {
     "name": "stdout",
     "output_type": "stream",
     "text": [
      "https://imsdb.com/scripts/8-Mile.pdf\n",
      "HTTP Error 404: Not Found\n"
     ]
    },
    {
     "name": "stderr",
     "output_type": "stream",
     "text": [
      "imsdb:  10%|█         | 123/1211 [01:35<14:08,  1.28it/s]"
     ]
    },
    {
     "name": "stdout",
     "output_type": "stream",
     "text": [
      "https://imsdb.com/scripts/Back-to-the-Future.pdf\n",
      "HTTP Error 404: Not Found\n"
     ]
    },
    {
     "name": "stderr",
     "output_type": "stream",
     "text": [
      "imsdb:  16%|█▌        | 193/1211 [02:27<13:09,  1.29it/s]"
     ]
    },
    {
     "name": "stdout",
     "output_type": "stream",
     "text": [
      "https://imsdb.com/scripts/Blues-Brothers%2C-The.pdf\n",
      "HTTP Error 404: Not Found\n"
     ]
    },
    {
     "name": "stderr",
     "output_type": "stream",
     "text": [
      "imsdb:  22%|██▏       | 272/1211 [03:30<12:27,  1.26it/s]"
     ]
    },
    {
     "name": "stdout",
     "output_type": "stream",
     "text": [
      "https://imsdb.com/scripts/Clockwork-Orange%2C-A.pdf\n",
      "HTTP Error 404: Not Found\n"
     ]
    },
    {
     "name": "stderr",
     "output_type": "stream",
     "text": [
      "imsdb:  24%|██▍       | 292/1211 [03:48<13:01,  1.18it/s]"
     ]
    },
    {
     "name": "stdout",
     "output_type": "stream",
     "text": [
      "https://imsdb.com/scripts/Courage-Under-Fire.pdf\n",
      "HTTP Error 404: Not Found\n"
     ]
    },
    {
     "name": "stderr",
     "output_type": "stream",
     "text": [
      "imsdb:  32%|███▏      | 384/1211 [04:59<11:33,  1.19it/s]"
     ]
    },
    {
     "name": "stdout",
     "output_type": "stream",
     "text": [
      "https://imsdb.com/scripts/Equilibrium.pdf\n",
      "HTTP Error 404: Not Found\n"
     ]
    },
    {
     "name": "stderr",
     "output_type": "stream",
     "text": [
      "imsdb:  51%|█████     | 614/1211 [07:45<07:46,  1.28it/s]"
     ]
    },
    {
     "name": "stdout",
     "output_type": "stream",
     "text": [
      "https://imsdb.com/scripts/Jade.pdf\n",
      "HTTP Error 404: Not Found\n"
     ]
    },
    {
     "name": "stderr",
     "output_type": "stream",
     "text": [
      "imsdb:  53%|█████▎    | 646/1211 [08:10<12:13,  1.30s/it]"
     ]
    },
    {
     "name": "stdout",
     "output_type": "stream",
     "text": [
      "https://imsdb.com/scripts/Kiss-of-the-Spider-Woman.pdf\n",
      "HTTP Error 404: Not Found\n"
     ]
    },
    {
     "name": "stderr",
     "output_type": "stream",
     "text": [
      "imsdb:  57%|█████▋    | 689/1211 [08:42<07:38,  1.14it/s]"
     ]
    },
    {
     "name": "stdout",
     "output_type": "stream",
     "text": [
      "https://imsdb.com/scripts/Lion-King%2C-The.pdf\n",
      "HTTP Error 404: Not Found\n"
     ]
    },
    {
     "name": "stderr",
     "output_type": "stream",
     "text": [
      "imsdb:  64%|██████▍   | 775/1211 [09:50<06:54,  1.05it/s]"
     ]
    },
    {
     "name": "stdout",
     "output_type": "stream",
     "text": [
      "https://imsdb.com/scripts/Monster%27s-Ball.pdf\n",
      "HTTP Error 404: Not Found\n"
     ]
    },
    {
     "name": "stderr",
     "output_type": "stream",
     "text": [
      "imsdb:  65%|██████▍   | 783/1211 [09:56<05:34,  1.28it/s]"
     ]
    },
    {
     "name": "stdout",
     "output_type": "stream",
     "text": [
      "https://imsdb.com/scripts/Mr.-Holland%27s-Opus.pdf\n",
      "HTTP Error 404: Not Found\n"
     ]
    },
    {
     "name": "stderr",
     "output_type": "stream",
     "text": [
      "imsdb:  68%|██████▊   | 823/1211 [10:40<08:44,  1.35s/it]"
     ]
    },
    {
     "name": "stdout",
     "output_type": "stream",
     "text": [
      "HTTP Error 404: Not Found\n",
      "HTTP Error 404: Not Found\n"
     ]
    },
    {
     "name": "stderr",
     "output_type": "stream",
     "text": [
      "imsdb:  69%|██████▊   | 831/1211 [10:47<05:29,  1.15it/s]"
     ]
    },
    {
     "name": "stdout",
     "output_type": "stream",
     "text": [
      "https://imsdb.com/scripts/Officer-and-a-Gentleman%2C-An.pdf\n",
      "HTTP Error 404: Not Found\n"
     ]
    },
    {
     "name": "stderr",
     "output_type": "stream",
     "text": [
      "imsdb:  77%|███████▋  | 928/1211 [12:01<03:37,  1.30it/s]"
     ]
    },
    {
     "name": "stdout",
     "output_type": "stream",
     "text": [
      "https://imsdb.com/scripts/Robocop.pdf\n",
      "HTTP Error 404: Not Found\n"
     ]
    },
    {
     "name": "stderr",
     "output_type": "stream",
     "text": [
      "imsdb:  80%|████████  | 972/1211 [12:36<03:46,  1.05it/s]"
     ]
    },
    {
     "name": "stdout",
     "output_type": "stream",
     "text": [
      "https://imsdb.com/scripts/Shadow-of-the-Vampire.pdf\n",
      "HTTP Error 404: Not Found\n"
     ]
    },
    {
     "name": "stderr",
     "output_type": "stream",
     "text": [
      "imsdb:  83%|████████▎ | 1006/1211 [13:03<02:51,  1.20it/s]"
     ]
    },
    {
     "name": "stdout",
     "output_type": "stream",
     "text": [
      "https://imsdb.com/scripts/Sneakers.pdf\n",
      "HTTP Error 404: Not Found\n"
     ]
    },
    {
     "name": "stderr",
     "output_type": "stream",
     "text": [
      "imsdb:  84%|████████▍ | 1021/1211 [13:13<02:22,  1.33it/s]"
     ]
    },
    {
     "name": "stdout",
     "output_type": "stream",
     "text": [
      "https://imsdb.com/scripts/Speed.pdf\n",
      "HTTP Error 404: Not Found\n"
     ]
    },
    {
     "name": "stderr",
     "output_type": "stream",
     "text": [
      "imsdb:  87%|████████▋ | 1057/1211 [13:45<01:58,  1.30it/s]"
     ]
    },
    {
     "name": "stdout",
     "output_type": "stream",
     "text": [
      "https://imsdb.com/scripts/Superfights.pdf\n",
      "HTTP Error 404: Not Found\n"
     ]
    },
    {
     "name": "stderr",
     "output_type": "stream",
     "text": [
      "imsdb:  95%|█████████▍| 1148/1211 [14:55<00:46,  1.36it/s]"
     ]
    },
    {
     "name": "stdout",
     "output_type": "stream",
     "text": [
      "https://imsdb.com/scripts/Vertigo.pdf\n",
      "HTTP Error 404: Not Found\n"
     ]
    },
    {
     "name": "stderr",
     "output_type": "stream",
     "text": [
      "imsdb:  96%|█████████▋| 1168/1211 [15:10<00:33,  1.28it/s]"
     ]
    },
    {
     "name": "stdout",
     "output_type": "stream",
     "text": [
      "HTTP Error 404: Not Found\n",
      "HTTP Error 404: Not Found\n"
     ]
    },
    {
     "name": "stderr",
     "output_type": "stream",
     "text": [
      "imsdb:  97%|█████████▋| 1172/1211 [15:13<00:30,  1.28it/s]"
     ]
    },
    {
     "name": "stdout",
     "output_type": "stream",
     "text": [
      "https://imsdb.com/scripts/When-Harry-Met-Sally.pdf\n",
      "HTTP Error 404: Not Found\n"
     ]
    },
    {
     "name": "stderr",
     "output_type": "stream",
     "text": [
      "imsdb:  97%|█████████▋| 1179/1211 [15:18<00:21,  1.46it/s]"
     ]
    },
    {
     "name": "stdout",
     "output_type": "stream",
     "text": [
      "HTTP Error 404: Not Found\n",
      "HTTP Error 404: Not Found\n"
     ]
    },
    {
     "name": "stderr",
     "output_type": "stream",
     "text": [
      "imsdb: 100%|██████████| 1211/1211 [15:41<00:00,  1.29it/s]\n"
     ]
    }
   ],
   "source": [
    "get_imsdb()"
   ]
  },
  {
   "cell_type": "code",
   "execution_count": 6,
   "metadata": {},
   "outputs": [
    {
     "name": "stdout",
     "output_type": "stream",
     "text": [
      "Number of scripts: 1127\n"
     ]
    }
   ],
   "source": [
    "path, dirs, files = next(os.walk('scripts/unprocessed/imsdb'))\n",
    "print('Number of scripts: ' + str(len(files)))"
   ]
  },
  {
   "cell_type": "markdown",
   "metadata": {},
   "source": [
    "We were able to pull 1,127 scripts from IMSDB's site."
   ]
  },
  {
   "cell_type": "markdown",
   "metadata": {},
   "source": [
    "Now that we've scraped the script data from imsdb, we'll need to combine the data into a dataframe. The function `clean_imsdb()` goes and reads in all of the scripts `get_imsdb()` outputted and then reformats the scripts to get rid of newline characters and multi-spaces so that the scripts have words separated by only spaces. After this, it pulls in the release date for the movies. Finally, it returns a dataframe that has `file_name`, `movie_title`, `script`, `release_date`, and `title_year`."
   ]
  },
  {
   "cell_type": "code",
   "execution_count": 7,
   "metadata": {},
   "outputs": [
    {
     "data": {
      "text/html": [
       "<div>\n",
       "<style scoped>\n",
       "    .dataframe tbody tr th:only-of-type {\n",
       "        vertical-align: middle;\n",
       "    }\n",
       "\n",
       "    .dataframe tbody tr th {\n",
       "        vertical-align: top;\n",
       "    }\n",
       "\n",
       "    .dataframe thead th {\n",
       "        text-align: right;\n",
       "    }\n",
       "</style>\n",
       "<table border=\"1\" class=\"dataframe\">\n",
       "  <thead>\n",
       "    <tr style=\"text-align: right;\">\n",
       "      <th></th>\n",
       "      <th>file_name</th>\n",
       "      <th>movie_title</th>\n",
       "      <th>script</th>\n",
       "      <th>release_date</th>\n",
       "      <th>title_year</th>\n",
       "    </tr>\n",
       "  </thead>\n",
       "  <tbody>\n",
       "    <tr>\n",
       "      <th>0</th>\n",
       "      <td>Midnight-Express.txt</td>\n",
       "      <td>Midnight Express</td>\n",
       "      <td>MIDNIGHT EXPRESS Screenplay by Oliver Stone B...</td>\n",
       "      <td>1978</td>\n",
       "      <td>Midnight Express (1978)</td>\n",
       "    </tr>\n",
       "    <tr>\n",
       "      <th>1</th>\n",
       "      <td>Big-Eyes.txt</td>\n",
       "      <td>Big Eyes</td>\n",
       "      <td>BIG EYES Written by Scott Alexander &amp; Larry K...</td>\n",
       "      <td>2014</td>\n",
       "      <td>Big Eyes (2014)</td>\n",
       "    </tr>\n",
       "    <tr>\n",
       "      <th>2</th>\n",
       "      <td>Warrior.txt</td>\n",
       "      <td>Warrior</td>\n",
       "      <td>WARRIOR Written by Gavin O'Connor, Anthony Ta...</td>\n",
       "      <td>2011</td>\n",
       "      <td>Warrior (2011)</td>\n",
       "    </tr>\n",
       "    <tr>\n",
       "      <th>3</th>\n",
       "      <td>Hellraiser-Hellseeker.txt</td>\n",
       "      <td>Hellraiser Hellseeker</td>\n",
       "      <td>HELLRAISER: HELLSEEKER Written by Carl Dupre ...</td>\n",
       "      <td>2002</td>\n",
       "      <td>Hellraiser Hellseeker (2002)</td>\n",
       "    </tr>\n",
       "    <tr>\n",
       "      <th>4</th>\n",
       "      <td>Hannah-and-Her-Sisters.txt</td>\n",
       "      <td>Hannah and Her Sisters</td>\n",
       "      <td>HANNAH AND HER SISTERS by Woody Allen As the ...</td>\n",
       "      <td></td>\n",
       "      <td>Hannah and Her Sisters ()</td>\n",
       "    </tr>\n",
       "  </tbody>\n",
       "</table>\n",
       "</div>"
      ],
      "text/plain": [
       "                    file_name             movie_title  \\\n",
       "0        Midnight-Express.txt        Midnight Express   \n",
       "1                Big-Eyes.txt                Big Eyes   \n",
       "2                 Warrior.txt                 Warrior   \n",
       "3   Hellraiser-Hellseeker.txt   Hellraiser Hellseeker   \n",
       "4  Hannah-and-Her-Sisters.txt  Hannah and Her Sisters   \n",
       "\n",
       "                                              script release_date  \\\n",
       "0   MIDNIGHT EXPRESS Screenplay by Oliver Stone B...         1978   \n",
       "1   BIG EYES Written by Scott Alexander & Larry K...         2014   \n",
       "2   WARRIOR Written by Gavin O'Connor, Anthony Ta...         2011   \n",
       "3   HELLRAISER: HELLSEEKER Written by Carl Dupre ...         2002   \n",
       "4   HANNAH AND HER SISTERS by Woody Allen As the ...                \n",
       "\n",
       "                     title_year  \n",
       "0       Midnight Express (1978)  \n",
       "1               Big Eyes (2014)  \n",
       "2                Warrior (2011)  \n",
       "3  Hellraiser Hellseeker (2002)  \n",
       "4     Hannah and Her Sisters ()  "
      ]
     },
     "execution_count": 7,
     "metadata": {},
     "output_type": "execute_result"
    }
   ],
   "source": [
    "movie_scripts = clean_imsdb()\n",
    "movie_scripts.head()"
   ]
  },
  {
   "cell_type": "markdown",
   "metadata": {},
   "source": [
    "Sweet! We have movie scripts to use for predicting genres. We just need to pull in genres from MovieLens"
   ]
  },
  {
   "cell_type": "code",
   "execution_count": 8,
   "metadata": {},
   "outputs": [
    {
     "data": {
      "text/html": [
       "<div>\n",
       "<style scoped>\n",
       "    .dataframe tbody tr th:only-of-type {\n",
       "        vertical-align: middle;\n",
       "    }\n",
       "\n",
       "    .dataframe tbody tr th {\n",
       "        vertical-align: top;\n",
       "    }\n",
       "\n",
       "    .dataframe thead th {\n",
       "        text-align: right;\n",
       "    }\n",
       "</style>\n",
       "<table border=\"1\" class=\"dataframe\">\n",
       "  <thead>\n",
       "    <tr style=\"text-align: right;\">\n",
       "      <th></th>\n",
       "      <th>movieId</th>\n",
       "      <th>title</th>\n",
       "      <th>genres</th>\n",
       "      <th>year</th>\n",
       "    </tr>\n",
       "  </thead>\n",
       "  <tbody>\n",
       "    <tr>\n",
       "      <th>0</th>\n",
       "      <td>1</td>\n",
       "      <td>Toy Story (1995)</td>\n",
       "      <td>Adventure|Animation|Children|Comedy|Fantasy</td>\n",
       "      <td>1995</td>\n",
       "    </tr>\n",
       "    <tr>\n",
       "      <th>1</th>\n",
       "      <td>2</td>\n",
       "      <td>Jumanji (1995)</td>\n",
       "      <td>Adventure|Children|Fantasy</td>\n",
       "      <td>1995</td>\n",
       "    </tr>\n",
       "    <tr>\n",
       "      <th>2</th>\n",
       "      <td>3</td>\n",
       "      <td>Grumpier Old Men (1995)</td>\n",
       "      <td>Comedy|Romance</td>\n",
       "      <td>1995</td>\n",
       "    </tr>\n",
       "    <tr>\n",
       "      <th>3</th>\n",
       "      <td>4</td>\n",
       "      <td>Waiting to Exhale (1995)</td>\n",
       "      <td>Comedy|Drama|Romance</td>\n",
       "      <td>1995</td>\n",
       "    </tr>\n",
       "    <tr>\n",
       "      <th>4</th>\n",
       "      <td>5</td>\n",
       "      <td>Father of the Bride Part II (1995)</td>\n",
       "      <td>Comedy</td>\n",
       "      <td>1995</td>\n",
       "    </tr>\n",
       "  </tbody>\n",
       "</table>\n",
       "</div>"
      ],
      "text/plain": [
       "   movieId                               title  \\\n",
       "0        1                    Toy Story (1995)   \n",
       "1        2                      Jumanji (1995)   \n",
       "2        3             Grumpier Old Men (1995)   \n",
       "3        4            Waiting to Exhale (1995)   \n",
       "4        5  Father of the Bride Part II (1995)   \n",
       "\n",
       "                                        genres  year  \n",
       "0  Adventure|Animation|Children|Comedy|Fantasy  1995  \n",
       "1                   Adventure|Children|Fantasy  1995  \n",
       "2                               Comedy|Romance  1995  \n",
       "3                         Comedy|Drama|Romance  1995  \n",
       "4                                       Comedy  1995  "
      ]
     },
     "execution_count": 8,
     "metadata": {},
     "output_type": "execute_result"
    }
   ],
   "source": [
    "ml_path = './data/ml-25m/movies.csv'\n",
    "ml_movies_df = pd.read_csv(ml_path)\n",
    "ml_movies_df['year'] = ml_movies_df['title'].str.extract(r'\\(([^()]+)\\)')\n",
    "ml_movies_df.head()"
   ]
  },
  {
   "cell_type": "markdown",
   "metadata": {},
   "source": [
    "Since titles between imsdb and MovieLens aren't one-to-one, we can use a fuzzy match to try to associate them. The package `rapidfuzz` uses a Levenshtein distance to construct value representing the similarity of two strings. The function `process.extractOne` returns the highest-valued match between the strings. So we created a function called `fuzz_merge()` that takes two dataframes, two keys, and a lowest acceptable score, and returns a dataframe that has a column we can use to match the first with the second dataframe."
   ]
  },
  {
   "cell_type": "code",
   "execution_count": 9,
   "metadata": {},
   "outputs": [],
   "source": [
    "fuzzy_merged_movies_df = fuzz_merge(movie_scripts, ml_movies_df, 'title_year', 'title', lowest_acceptable_score=84)"
   ]
  },
  {
   "cell_type": "code",
   "execution_count": 10,
   "metadata": {},
   "outputs": [
    {
     "data": {
      "text/html": [
       "<div>\n",
       "<style scoped>\n",
       "    .dataframe tbody tr th:only-of-type {\n",
       "        vertical-align: middle;\n",
       "    }\n",
       "\n",
       "    .dataframe tbody tr th {\n",
       "        vertical-align: top;\n",
       "    }\n",
       "\n",
       "    .dataframe thead th {\n",
       "        text-align: right;\n",
       "    }\n",
       "</style>\n",
       "<table border=\"1\" class=\"dataframe\">\n",
       "  <thead>\n",
       "    <tr style=\"text-align: right;\">\n",
       "      <th></th>\n",
       "      <th>file_name</th>\n",
       "      <th>movie_title</th>\n",
       "      <th>script</th>\n",
       "      <th>release_date</th>\n",
       "      <th>title_year</th>\n",
       "      <th>matched_title</th>\n",
       "    </tr>\n",
       "  </thead>\n",
       "  <tbody>\n",
       "    <tr>\n",
       "      <th>0</th>\n",
       "      <td>Midnight-Express.txt</td>\n",
       "      <td>Midnight Express</td>\n",
       "      <td>MIDNIGHT EXPRESS Screenplay by Oliver Stone B...</td>\n",
       "      <td>1978</td>\n",
       "      <td>Midnight Express (1978)</td>\n",
       "      <td>Midnight Express (1978)</td>\n",
       "    </tr>\n",
       "    <tr>\n",
       "      <th>1</th>\n",
       "      <td>Big-Eyes.txt</td>\n",
       "      <td>Big Eyes</td>\n",
       "      <td>BIG EYES Written by Scott Alexander &amp; Larry K...</td>\n",
       "      <td>2014</td>\n",
       "      <td>Big Eyes (2014)</td>\n",
       "      <td>Big Eyes (2014)</td>\n",
       "    </tr>\n",
       "    <tr>\n",
       "      <th>2</th>\n",
       "      <td>Warrior.txt</td>\n",
       "      <td>Warrior</td>\n",
       "      <td>WARRIOR Written by Gavin O'Connor, Anthony Ta...</td>\n",
       "      <td>2011</td>\n",
       "      <td>Warrior (2011)</td>\n",
       "      <td>Warrior (2011)</td>\n",
       "    </tr>\n",
       "    <tr>\n",
       "      <th>3</th>\n",
       "      <td>Hellraiser-Hellseeker.txt</td>\n",
       "      <td>Hellraiser Hellseeker</td>\n",
       "      <td>HELLRAISER: HELLSEEKER Written by Carl Dupre ...</td>\n",
       "      <td>2002</td>\n",
       "      <td>Hellraiser Hellseeker (2002)</td>\n",
       "      <td>Hellraiser: Hellseeker (2002)</td>\n",
       "    </tr>\n",
       "    <tr>\n",
       "      <th>4</th>\n",
       "      <td>Hannah-and-Her-Sisters.txt</td>\n",
       "      <td>Hannah and Her Sisters</td>\n",
       "      <td>HANNAH AND HER SISTERS by Woody Allen As the ...</td>\n",
       "      <td></td>\n",
       "      <td>Hannah and Her Sisters ()</td>\n",
       "      <td>Hannah and Her Sisters (1986)</td>\n",
       "    </tr>\n",
       "  </tbody>\n",
       "</table>\n",
       "</div>"
      ],
      "text/plain": [
       "                    file_name             movie_title  \\\n",
       "0        Midnight-Express.txt        Midnight Express   \n",
       "1                Big-Eyes.txt                Big Eyes   \n",
       "2                 Warrior.txt                 Warrior   \n",
       "3   Hellraiser-Hellseeker.txt   Hellraiser Hellseeker   \n",
       "4  Hannah-and-Her-Sisters.txt  Hannah and Her Sisters   \n",
       "\n",
       "                                              script release_date  \\\n",
       "0   MIDNIGHT EXPRESS Screenplay by Oliver Stone B...         1978   \n",
       "1   BIG EYES Written by Scott Alexander & Larry K...         2014   \n",
       "2   WARRIOR Written by Gavin O'Connor, Anthony Ta...         2011   \n",
       "3   HELLRAISER: HELLSEEKER Written by Carl Dupre ...         2002   \n",
       "4   HANNAH AND HER SISTERS by Woody Allen As the ...                \n",
       "\n",
       "                     title_year                  matched_title  \n",
       "0       Midnight Express (1978)        Midnight Express (1978)  \n",
       "1               Big Eyes (2014)                Big Eyes (2014)  \n",
       "2                Warrior (2011)                 Warrior (2011)  \n",
       "3  Hellraiser Hellseeker (2002)  Hellraiser: Hellseeker (2002)  \n",
       "4     Hannah and Her Sisters ()  Hannah and Her Sisters (1986)  "
      ]
     },
     "execution_count": 10,
     "metadata": {},
     "output_type": "execute_result"
    }
   ],
   "source": [
    "fuzzy_merged_movies_df.head()"
   ]
  },
  {
   "cell_type": "markdown",
   "metadata": {},
   "source": [
    "Now let's merge the MovieLens data with the IMSDB data."
   ]
  },
  {
   "cell_type": "code",
   "execution_count": 11,
   "metadata": {},
   "outputs": [
    {
     "data": {
      "text/html": [
       "<div>\n",
       "<style scoped>\n",
       "    .dataframe tbody tr th:only-of-type {\n",
       "        vertical-align: middle;\n",
       "    }\n",
       "\n",
       "    .dataframe tbody tr th {\n",
       "        vertical-align: top;\n",
       "    }\n",
       "\n",
       "    .dataframe thead th {\n",
       "        text-align: right;\n",
       "    }\n",
       "</style>\n",
       "<table border=\"1\" class=\"dataframe\">\n",
       "  <thead>\n",
       "    <tr style=\"text-align: right;\">\n",
       "      <th></th>\n",
       "      <th>file_name</th>\n",
       "      <th>movie_title</th>\n",
       "      <th>script</th>\n",
       "      <th>release_date</th>\n",
       "      <th>title_year</th>\n",
       "      <th>matched_title</th>\n",
       "      <th>movieId</th>\n",
       "      <th>title</th>\n",
       "      <th>genres</th>\n",
       "      <th>year</th>\n",
       "    </tr>\n",
       "  </thead>\n",
       "  <tbody>\n",
       "    <tr>\n",
       "      <th>0</th>\n",
       "      <td>Midnight-Express.txt</td>\n",
       "      <td>Midnight Express</td>\n",
       "      <td>MIDNIGHT EXPRESS Screenplay by Oliver Stone B...</td>\n",
       "      <td>1978</td>\n",
       "      <td>Midnight Express (1978)</td>\n",
       "      <td>Midnight Express (1978)</td>\n",
       "      <td>3498</td>\n",
       "      <td>Midnight Express (1978)</td>\n",
       "      <td>Drama</td>\n",
       "      <td>1978</td>\n",
       "    </tr>\n",
       "    <tr>\n",
       "      <th>1</th>\n",
       "      <td>Big-Eyes.txt</td>\n",
       "      <td>Big Eyes</td>\n",
       "      <td>BIG EYES Written by Scott Alexander &amp; Larry K...</td>\n",
       "      <td>2014</td>\n",
       "      <td>Big Eyes (2014)</td>\n",
       "      <td>Big Eyes (2014)</td>\n",
       "      <td>118985</td>\n",
       "      <td>Big Eyes (2014)</td>\n",
       "      <td>Drama</td>\n",
       "      <td>2014</td>\n",
       "    </tr>\n",
       "    <tr>\n",
       "      <th>2</th>\n",
       "      <td>Warrior.txt</td>\n",
       "      <td>Warrior</td>\n",
       "      <td>WARRIOR Written by Gavin O'Connor, Anthony Ta...</td>\n",
       "      <td>2011</td>\n",
       "      <td>Warrior (2011)</td>\n",
       "      <td>Warrior (2011)</td>\n",
       "      <td>89774</td>\n",
       "      <td>Warrior (2011)</td>\n",
       "      <td>Drama</td>\n",
       "      <td>2011</td>\n",
       "    </tr>\n",
       "    <tr>\n",
       "      <th>3</th>\n",
       "      <td>Hellraiser-Hellseeker.txt</td>\n",
       "      <td>Hellraiser Hellseeker</td>\n",
       "      <td>HELLRAISER: HELLSEEKER Written by Carl Dupre ...</td>\n",
       "      <td>2002</td>\n",
       "      <td>Hellraiser Hellseeker (2002)</td>\n",
       "      <td>Hellraiser: Hellseeker (2002)</td>\n",
       "      <td>43022</td>\n",
       "      <td>Hellraiser: Hellseeker (2002)</td>\n",
       "      <td>Horror</td>\n",
       "      <td>2002</td>\n",
       "    </tr>\n",
       "    <tr>\n",
       "      <th>4</th>\n",
       "      <td>Hannah-and-Her-Sisters.txt</td>\n",
       "      <td>Hannah and Her Sisters</td>\n",
       "      <td>HANNAH AND HER SISTERS by Woody Allen As the ...</td>\n",
       "      <td></td>\n",
       "      <td>Hannah and Her Sisters ()</td>\n",
       "      <td>Hannah and Her Sisters (1986)</td>\n",
       "      <td>6993</td>\n",
       "      <td>Hannah and Her Sisters (1986)</td>\n",
       "      <td>Comedy|Drama|Romance</td>\n",
       "      <td>1986</td>\n",
       "    </tr>\n",
       "  </tbody>\n",
       "</table>\n",
       "</div>"
      ],
      "text/plain": [
       "                    file_name             movie_title  \\\n",
       "0        Midnight-Express.txt        Midnight Express   \n",
       "1                Big-Eyes.txt                Big Eyes   \n",
       "2                 Warrior.txt                 Warrior   \n",
       "3   Hellraiser-Hellseeker.txt   Hellraiser Hellseeker   \n",
       "4  Hannah-and-Her-Sisters.txt  Hannah and Her Sisters   \n",
       "\n",
       "                                              script release_date  \\\n",
       "0   MIDNIGHT EXPRESS Screenplay by Oliver Stone B...         1978   \n",
       "1   BIG EYES Written by Scott Alexander & Larry K...         2014   \n",
       "2   WARRIOR Written by Gavin O'Connor, Anthony Ta...         2011   \n",
       "3   HELLRAISER: HELLSEEKER Written by Carl Dupre ...         2002   \n",
       "4   HANNAH AND HER SISTERS by Woody Allen As the ...                \n",
       "\n",
       "                     title_year                  matched_title  movieId  \\\n",
       "0       Midnight Express (1978)        Midnight Express (1978)     3498   \n",
       "1               Big Eyes (2014)                Big Eyes (2014)   118985   \n",
       "2                Warrior (2011)                 Warrior (2011)    89774   \n",
       "3  Hellraiser Hellseeker (2002)  Hellraiser: Hellseeker (2002)    43022   \n",
       "4     Hannah and Her Sisters ()  Hannah and Her Sisters (1986)     6993   \n",
       "\n",
       "                           title                genres  year  \n",
       "0        Midnight Express (1978)                 Drama  1978  \n",
       "1                Big Eyes (2014)                 Drama  2014  \n",
       "2                 Warrior (2011)                 Drama  2011  \n",
       "3  Hellraiser: Hellseeker (2002)                Horror  2002  \n",
       "4  Hannah and Her Sisters (1986)  Comedy|Drama|Romance  1986  "
      ]
     },
     "execution_count": 11,
     "metadata": {},
     "output_type": "execute_result"
    }
   ],
   "source": [
    "movies_combined = fuzzy_merged_movies_df.merge(ml_movies_df, left_on='matched_title', right_on='title')\n",
    "movies_combined.head()"
   ]
  },
  {
   "cell_type": "markdown",
   "metadata": {},
   "source": [
    "Lastly, we'll need to transform the pipe-separated list of genres into dummy variables in order to use them to predict the genres."
   ]
  },
  {
   "cell_type": "code",
   "execution_count": 12,
   "metadata": {},
   "outputs": [
    {
     "data": {
      "text/html": [
       "<div>\n",
       "<style scoped>\n",
       "    .dataframe tbody tr th:only-of-type {\n",
       "        vertical-align: middle;\n",
       "    }\n",
       "\n",
       "    .dataframe tbody tr th {\n",
       "        vertical-align: top;\n",
       "    }\n",
       "\n",
       "    .dataframe thead th {\n",
       "        text-align: right;\n",
       "    }\n",
       "</style>\n",
       "<table border=\"1\" class=\"dataframe\">\n",
       "  <thead>\n",
       "    <tr style=\"text-align: right;\">\n",
       "      <th></th>\n",
       "      <th>file_name</th>\n",
       "      <th>movie_title</th>\n",
       "      <th>script</th>\n",
       "      <th>release_date</th>\n",
       "      <th>title_year</th>\n",
       "      <th>matched_title</th>\n",
       "      <th>movieId</th>\n",
       "      <th>title</th>\n",
       "      <th>genres</th>\n",
       "      <th>year</th>\n",
       "      <th>...</th>\n",
       "      <th>Film-Noir</th>\n",
       "      <th>Horror</th>\n",
       "      <th>IMAX</th>\n",
       "      <th>Musical</th>\n",
       "      <th>Mystery</th>\n",
       "      <th>Romance</th>\n",
       "      <th>Sci-Fi</th>\n",
       "      <th>Thriller</th>\n",
       "      <th>War</th>\n",
       "      <th>Western</th>\n",
       "    </tr>\n",
       "  </thead>\n",
       "  <tbody>\n",
       "    <tr>\n",
       "      <th>0</th>\n",
       "      <td>Midnight-Express.txt</td>\n",
       "      <td>Midnight Express</td>\n",
       "      <td>MIDNIGHT EXPRESS Screenplay by Oliver Stone B...</td>\n",
       "      <td>1978</td>\n",
       "      <td>Midnight Express (1978)</td>\n",
       "      <td>Midnight Express (1978)</td>\n",
       "      <td>3498</td>\n",
       "      <td>Midnight Express (1978)</td>\n",
       "      <td>Drama</td>\n",
       "      <td>1978</td>\n",
       "      <td>...</td>\n",
       "      <td>0</td>\n",
       "      <td>0</td>\n",
       "      <td>0</td>\n",
       "      <td>0</td>\n",
       "      <td>0</td>\n",
       "      <td>0</td>\n",
       "      <td>0</td>\n",
       "      <td>0</td>\n",
       "      <td>0</td>\n",
       "      <td>0</td>\n",
       "    </tr>\n",
       "    <tr>\n",
       "      <th>1</th>\n",
       "      <td>Big-Eyes.txt</td>\n",
       "      <td>Big Eyes</td>\n",
       "      <td>BIG EYES Written by Scott Alexander &amp; Larry K...</td>\n",
       "      <td>2014</td>\n",
       "      <td>Big Eyes (2014)</td>\n",
       "      <td>Big Eyes (2014)</td>\n",
       "      <td>118985</td>\n",
       "      <td>Big Eyes (2014)</td>\n",
       "      <td>Drama</td>\n",
       "      <td>2014</td>\n",
       "      <td>...</td>\n",
       "      <td>0</td>\n",
       "      <td>0</td>\n",
       "      <td>0</td>\n",
       "      <td>0</td>\n",
       "      <td>0</td>\n",
       "      <td>0</td>\n",
       "      <td>0</td>\n",
       "      <td>0</td>\n",
       "      <td>0</td>\n",
       "      <td>0</td>\n",
       "    </tr>\n",
       "    <tr>\n",
       "      <th>2</th>\n",
       "      <td>Warrior.txt</td>\n",
       "      <td>Warrior</td>\n",
       "      <td>WARRIOR Written by Gavin O'Connor, Anthony Ta...</td>\n",
       "      <td>2011</td>\n",
       "      <td>Warrior (2011)</td>\n",
       "      <td>Warrior (2011)</td>\n",
       "      <td>89774</td>\n",
       "      <td>Warrior (2011)</td>\n",
       "      <td>Drama</td>\n",
       "      <td>2011</td>\n",
       "      <td>...</td>\n",
       "      <td>0</td>\n",
       "      <td>0</td>\n",
       "      <td>0</td>\n",
       "      <td>0</td>\n",
       "      <td>0</td>\n",
       "      <td>0</td>\n",
       "      <td>0</td>\n",
       "      <td>0</td>\n",
       "      <td>0</td>\n",
       "      <td>0</td>\n",
       "    </tr>\n",
       "    <tr>\n",
       "      <th>3</th>\n",
       "      <td>Hellraiser-Hellseeker.txt</td>\n",
       "      <td>Hellraiser Hellseeker</td>\n",
       "      <td>HELLRAISER: HELLSEEKER Written by Carl Dupre ...</td>\n",
       "      <td>2002</td>\n",
       "      <td>Hellraiser Hellseeker (2002)</td>\n",
       "      <td>Hellraiser: Hellseeker (2002)</td>\n",
       "      <td>43022</td>\n",
       "      <td>Hellraiser: Hellseeker (2002)</td>\n",
       "      <td>Horror</td>\n",
       "      <td>2002</td>\n",
       "      <td>...</td>\n",
       "      <td>0</td>\n",
       "      <td>1</td>\n",
       "      <td>0</td>\n",
       "      <td>0</td>\n",
       "      <td>0</td>\n",
       "      <td>0</td>\n",
       "      <td>0</td>\n",
       "      <td>0</td>\n",
       "      <td>0</td>\n",
       "      <td>0</td>\n",
       "    </tr>\n",
       "    <tr>\n",
       "      <th>4</th>\n",
       "      <td>Hannah-and-Her-Sisters.txt</td>\n",
       "      <td>Hannah and Her Sisters</td>\n",
       "      <td>HANNAH AND HER SISTERS by Woody Allen As the ...</td>\n",
       "      <td></td>\n",
       "      <td>Hannah and Her Sisters ()</td>\n",
       "      <td>Hannah and Her Sisters (1986)</td>\n",
       "      <td>6993</td>\n",
       "      <td>Hannah and Her Sisters (1986)</td>\n",
       "      <td>Comedy|Drama|Romance</td>\n",
       "      <td>1986</td>\n",
       "      <td>...</td>\n",
       "      <td>0</td>\n",
       "      <td>0</td>\n",
       "      <td>0</td>\n",
       "      <td>0</td>\n",
       "      <td>0</td>\n",
       "      <td>1</td>\n",
       "      <td>0</td>\n",
       "      <td>0</td>\n",
       "      <td>0</td>\n",
       "      <td>0</td>\n",
       "    </tr>\n",
       "  </tbody>\n",
       "</table>\n",
       "<p>5 rows × 30 columns</p>\n",
       "</div>"
      ],
      "text/plain": [
       "                    file_name             movie_title  \\\n",
       "0        Midnight-Express.txt        Midnight Express   \n",
       "1                Big-Eyes.txt                Big Eyes   \n",
       "2                 Warrior.txt                 Warrior   \n",
       "3   Hellraiser-Hellseeker.txt   Hellraiser Hellseeker   \n",
       "4  Hannah-and-Her-Sisters.txt  Hannah and Her Sisters   \n",
       "\n",
       "                                              script release_date  \\\n",
       "0   MIDNIGHT EXPRESS Screenplay by Oliver Stone B...         1978   \n",
       "1   BIG EYES Written by Scott Alexander & Larry K...         2014   \n",
       "2   WARRIOR Written by Gavin O'Connor, Anthony Ta...         2011   \n",
       "3   HELLRAISER: HELLSEEKER Written by Carl Dupre ...         2002   \n",
       "4   HANNAH AND HER SISTERS by Woody Allen As the ...                \n",
       "\n",
       "                     title_year                  matched_title  movieId  \\\n",
       "0       Midnight Express (1978)        Midnight Express (1978)     3498   \n",
       "1               Big Eyes (2014)                Big Eyes (2014)   118985   \n",
       "2                Warrior (2011)                 Warrior (2011)    89774   \n",
       "3  Hellraiser Hellseeker (2002)  Hellraiser: Hellseeker (2002)    43022   \n",
       "4     Hannah and Her Sisters ()  Hannah and Her Sisters (1986)     6993   \n",
       "\n",
       "                           title                genres  year  ...  Film-Noir  \\\n",
       "0        Midnight Express (1978)                 Drama  1978  ...          0   \n",
       "1                Big Eyes (2014)                 Drama  2014  ...          0   \n",
       "2                 Warrior (2011)                 Drama  2011  ...          0   \n",
       "3  Hellraiser: Hellseeker (2002)                Horror  2002  ...          0   \n",
       "4  Hannah and Her Sisters (1986)  Comedy|Drama|Romance  1986  ...          0   \n",
       "\n",
       "   Horror  IMAX  Musical  Mystery  Romance  Sci-Fi  Thriller  War  Western  \n",
       "0       0     0        0        0        0       0         0    0        0  \n",
       "1       0     0        0        0        0       0         0    0        0  \n",
       "2       0     0        0        0        0       0         0    0        0  \n",
       "3       1     0        0        0        0       0         0    0        0  \n",
       "4       0     0        0        0        1       0         0    0        0  \n",
       "\n",
       "[5 rows x 30 columns]"
      ]
     },
     "execution_count": 12,
     "metadata": {},
     "output_type": "execute_result"
    }
   ],
   "source": [
    "dummies = pd.get_dummies(movies_combined.genres.str.split('|', expand=True).stack(dropna=False)).sum(level=0)\n",
    "movies_genres_df = pd.concat([movies_combined, dummies], axis=1)\n",
    "\n",
    "movies_genres_df.head()"
   ]
  },
  {
   "cell_type": "markdown",
   "metadata": {},
   "source": [
    "Let's do a quick check to see if our fuzzy matching resulted in any duplicates."
   ]
  },
  {
   "cell_type": "code",
   "execution_count": 13,
   "metadata": {},
   "outputs": [
    {
     "data": {
      "text/plain": [
       "Father of the Bride Part II (1995)                                              34\n",
       "City of Lost Children, The (Cité des enfants perdus, La) (1995)                 13\n",
       "Dracula: Dead and Loving It (1995)                                               5\n",
       "Highlander III: The Sorcerer (a.k.a. Highlander: The Final Dimension) (1994)     3\n",
       "American President, The (1995)                                                   3\n",
       "Ed Wood (1994)                                                                   2\n",
       "Confessions of a Dangerous Mind (2002)                                           2\n",
       "Hostage (2005)                                                                   2\n",
       "Mute Witness (1994)                                                              2\n",
       "War of the Worlds (2005)                                                         2\n",
       "Aliens (1986)                                                                    2\n",
       "Basic Instinct (1992)                                                            2\n",
       "Lawnmower Man 2: Beyond Cyberspace (1996)                                        2\n",
       "Aladdin (1992)                                                                   2\n",
       "Evil Dead II (Dead by Dawn) (1987)                                               2\n",
       "9 (2009)                                                                         2\n",
       "2001: A Space Odyssey (1968)                                                     2\n",
       "Chaos (2005)                                                                     2\n",
       "Frozen (2010)                                                                    2\n",
       "Blade Runner (1982)                                                              2\n",
       "Shanghai Triad (Yao a yao yao dao waipo qiao) (1995)                             2\n",
       "Name: matched_title, dtype: int64"
      ]
     },
     "execution_count": 13,
     "metadata": {},
     "output_type": "execute_result"
    }
   ],
   "source": [
    "duplicated_titles = movies_genres_df[movies_genres_df.duplicated(['matched_title'], keep=False)]['matched_title']\n",
    "duplicated_titles.value_counts()"
   ]
  },
  {
   "cell_type": "markdown",
   "metadata": {},
   "source": [
    "After quickly looking at some of these titles, we found that they're just straight up missing from the imsdb data. So the fuzzy match decided that the matched title from imsdb that was as close as it could get with the MovieLens data. We'll drop these duplicates because they're going to cause us issues and probably won't help our model."
   ]
  },
  {
   "cell_type": "code",
   "execution_count": 14,
   "metadata": {},
   "outputs": [
    {
     "name": "stdout",
     "output_type": "stream",
     "text": [
      "Percent of Script Data Preserved: 0.9449866903283053\n",
      "Number of Movie Scripts: 1065\n"
     ]
    }
   ],
   "source": [
    "movie_genres_no_dupes = movies_genres_df.drop_duplicates(['matched_title'])\n",
    "scripts_preserved_perc = movie_genres_no_dupes.shape[0] / fuzzy_merged_movies_df.shape[0]\n",
    "print('Percent of Script Data Preserved: ' + str(scripts_preserved_perc))\n",
    "print('Number of Movie Scripts: ' + str(movie_genres_no_dupes.shape[0]))"
   ]
  },
  {
   "cell_type": "markdown",
   "metadata": {},
   "source": [
    "It looks like we still have about 94% of the original IMSDB script data we scraped. And we have over 1,000 movie scripts in our dataset."
   ]
  },
  {
   "cell_type": "markdown",
   "metadata": {},
   "source": [
    "## Data Exploration\n",
    "\n",
    "In this section, we're going to explore the dataset and clean it up a bit more."
   ]
  },
  {
   "cell_type": "markdown",
   "metadata": {},
   "source": [
    "Before getting started, let's split our dataset into train and test sets."
   ]
  },
  {
   "cell_type": "code",
   "execution_count": 15,
   "metadata": {},
   "outputs": [],
   "source": [
    "test = movie_genres_no_dupes.sample(frac=0.2, random_state=rng) \n",
    "train_mask = pd.Series(True, index=movie_genres_no_dupes.index) \n",
    "train_mask[test.index] = False\n",
    "train = movie_genres_no_dupes[train_mask].copy()"
   ]
  },
  {
   "cell_type": "code",
   "execution_count": 16,
   "metadata": {},
   "outputs": [
    {
     "data": {
      "text/plain": [
       "Index(['file_name', 'movie_title', 'script', 'release_date', 'title_year',\n",
       "       'matched_title', 'movieId', 'title', 'genres', 'year',\n",
       "       '(no genres listed)', 'Action', 'Adventure', 'Animation', 'Children',\n",
       "       'Comedy', 'Crime', 'Documentary', 'Drama', 'Fantasy', 'Film-Noir',\n",
       "       'Horror', 'IMAX', 'Musical', 'Mystery', 'Romance', 'Sci-Fi', 'Thriller',\n",
       "       'War', 'Western'],\n",
       "      dtype='object')"
      ]
     },
     "execution_count": 16,
     "metadata": {},
     "output_type": "execute_result"
    }
   ],
   "source": [
    "train.columns"
   ]
  },
  {
   "cell_type": "code",
   "execution_count": 17,
   "metadata": {},
   "outputs": [
    {
     "name": "stdout",
     "output_type": "stream",
     "text": [
      "(no genres listed):     3\n",
      "Action:               225\n",
      "Adventure:            140\n",
      "Animation:             27\n",
      "Children:              30\n",
      "Comedy:               256\n",
      "Crime:                154\n",
      "Documentary:            6\n",
      "Drama:                445\n",
      "Fantasy:               66\n",
      "Film-Noir:             10\n",
      "Horror:               105\n",
      "IMAX:                  24\n",
      "Musical:               18\n",
      "Mystery:               83\n",
      "Romance:              131\n",
      "Sci-Fi:               128\n",
      "Thriller:             279\n",
      "War:                   28\n",
      "Western:               12\n"
     ]
    }
   ],
   "source": [
    "genre_columns = train[['(no genres listed)', 'Action', 'Adventure', 'Animation', 'Children'\n",
    "    , 'Comedy', 'Crime', 'Documentary', 'Drama', 'Fantasy', 'Film-Noir', 'Horror', 'IMAX'\n",
    "    , 'Musical', 'Mystery', 'Romance', 'Sci-Fi', 'Thriller', 'War', 'Western']]\n",
    "\n",
    "for c in genre_columns.columns:\n",
    "    print('{0: <20}'.format(c + ': ') + '{0: >5}'.format(str(genre_columns[c].sum())))"
   ]
  },
  {
   "cell_type": "markdown",
   "metadata": {},
   "source": [
    "It looks like we don't have very many scripts for documentaries or westerns in the dataset.\n",
    "\n",
    "There are a few movies that don't have any genre information. Let's just remove those for our purpose here since we can't validate whether they were correctly classified."
   ]
  },
  {
   "cell_type": "code",
   "execution_count": 18,
   "metadata": {},
   "outputs": [],
   "source": [
    "train.drop(train[train['(no genres listed)'] == 1].index, inplace = True)"
   ]
  },
  {
   "cell_type": "markdown",
   "metadata": {},
   "source": [
    "Let's look at a histogram of the movie genres to get a better idea of how they're distributed."
   ]
  },
  {
   "cell_type": "code",
   "execution_count": 19,
   "metadata": {},
   "outputs": [
    {
     "name": "stdout",
     "output_type": "stream",
     "text": [
      "<class 'pandas.core.frame.DataFrame'>\n",
      "Int64Index: 2167 entries, 0 to 1133\n",
      "Data columns (total 30 columns):\n",
      " #   Column              Non-Null Count  Dtype \n",
      "---  ------              --------------  ----- \n",
      " 0   file_name           2167 non-null   object\n",
      " 1   movie_title         2167 non-null   object\n",
      " 2   script              2167 non-null   object\n",
      " 3   release_date        2167 non-null   object\n",
      " 4   title_year          2167 non-null   object\n",
      " 5   matched_title       2167 non-null   object\n",
      " 6   movieId             2167 non-null   int64 \n",
      " 7   title               2167 non-null   object\n",
      " 8   year                2167 non-null   object\n",
      " 9   (no genres listed)  2167 non-null   uint8 \n",
      " 10  Action              2167 non-null   uint8 \n",
      " 11  Adventure           2167 non-null   uint8 \n",
      " 12  Animation           2167 non-null   uint8 \n",
      " 13  Children            2167 non-null   uint8 \n",
      " 14  Comedy              2167 non-null   uint8 \n",
      " 15  Crime               2167 non-null   uint8 \n",
      " 16  Documentary         2167 non-null   uint8 \n",
      " 17  Drama               2167 non-null   uint8 \n",
      " 18  Fantasy             2167 non-null   uint8 \n",
      " 19  Film-Noir           2167 non-null   uint8 \n",
      " 20  Horror              2167 non-null   uint8 \n",
      " 21  IMAX                2167 non-null   uint8 \n",
      " 22  Musical             2167 non-null   uint8 \n",
      " 23  Mystery             2167 non-null   uint8 \n",
      " 24  Romance             2167 non-null   uint8 \n",
      " 25  Sci-Fi              2167 non-null   uint8 \n",
      " 26  Thriller            2167 non-null   uint8 \n",
      " 27  War                 2167 non-null   uint8 \n",
      " 28  Western             2167 non-null   uint8 \n",
      " 29  genres              2167 non-null   object\n",
      "dtypes: int64(1), object(9), uint8(20)\n",
      "memory usage: 228.6+ KB\n"
     ]
    }
   ],
   "source": [
    "movies_tall_df = train.drop('genres', axis=1).join(train.genres.str.split('|', expand=True).stack().reset_index(drop=True, level=1).rename('genres'))\n",
    "movies_tall_df.info()"
   ]
  },
  {
   "cell_type": "code",
   "execution_count": 20,
   "metadata": {},
   "outputs": [
    {
     "data": {
      "text/plain": [
       "[Text(0.5, 1.0, 'Histogram of Genres'), Text(0.5, 0, 'Genres')]"
      ]
     },
     "execution_count": 20,
     "metadata": {},
     "output_type": "execute_result"
    },
    {
     "data": {
      "image/png": "[encoded data removed]",
      "text/plain": [
       "<Figure size 432x288 with 1 Axes>"
      ]
     },
     "metadata": {
      "needs_background": "light"
     },
     "output_type": "display_data"
    }
   ],
   "source": [
    "sns.histplot(data = movies_tall_df, y = 'genres').set(title='Histogram of Genres', xlabel='Genres')"
   ]
  },
  {
   "cell_type": "markdown",
   "metadata": {},
   "source": [
    "It looks like our dataset mostly has Drama, Comedy, Thriller, Action, and Adventure movies."
   ]
  },
  {
   "cell_type": "markdown",
   "metadata": {},
   "source": [
    "## Multi-Label Classification\n",
    "\n",
    "Now let's try to classify the data. First, we're going to use a k-NN classifier to try to see if we can do this. We'll use the tall dataset we produced above and try to classify on `genres` and then test with the training set we fed into the model. Then we're going to use `OneVsRestClassifier` with a Naïve Bayes, Logistic Regression, and Logistic Regression SVD."
   ]
  },
  {
   "cell_type": "markdown",
   "metadata": {},
   "source": [
    "### k-Nearest Neighbors"
   ]
  },
  {
   "cell_type": "code",
   "execution_count": 21,
   "metadata": {},
   "outputs": [
    {
     "data": {
      "text/plain": [
       "Pipeline(steps=[('vectorize',\n",
       "                 TfidfVectorizer(max_features=10000,\n",
       "                                 stop_words={'a', 'about', 'above', 'across',\n",
       "                                             'after', 'afterwards', 'again',\n",
       "                                             'against', 'all', 'almost',\n",
       "                                             'alone', 'along', 'already',\n",
       "                                             'also', 'although', 'always', 'am',\n",
       "                                             'among', 'amongst', 'amoungst',\n",
       "                                             'amount', 'an', 'and', 'another',\n",
       "                                             'any', 'anyhow', 'anyone',\n",
       "                                             'anything', 'anyway', 'anywhere', ...})),\n",
       "                ('class', KNeighborsClassifier())])"
      ]
     },
     "execution_count": 21,
     "metadata": {},
     "output_type": "execute_result"
    }
   ],
   "source": [
    "knn_pipe = Pipeline([\n",
    "    ('vectorize', TfidfVectorizer(\n",
    "        stop_words=set(ENGLISH_STOP_WORDS),\n",
    "lowercase=True,\n",
    "        max_features=10000)\n",
    "    ),\n",
    "    ('class', KNeighborsClassifier(5))\n",
    "])\n",
    "knn_pipe.fit(movies_tall_df['script'], movies_tall_df['genres'])"
   ]
  },
  {
   "cell_type": "code",
   "execution_count": 22,
   "metadata": {},
   "outputs": [
    {
     "name": "stdout",
     "output_type": "stream",
     "text": [
      "0.13663133097762073\n"
     ]
    }
   ],
   "source": [
    "pred_train = knn_pipe.predict(train['script'])\n",
    "knn_5_accuracy_train = accuracy_score(train['genres'], pred_train)\n",
    "print(knn_5_accuracy_train)"
   ]
  },
  {
   "cell_type": "markdown",
   "metadata": {},
   "source": [
    "So we've gotten about 13.6% accuracy on the training data. That's pretty awful. Let's use `GridSearchCV` to identify a better choice for the number of neighbors and update the model."
   ]
  },
  {
   "cell_type": "code",
   "execution_count": 23,
   "metadata": {},
   "outputs": [
    {
     "name": "stdout",
     "output_type": "stream",
     "text": [
      "{'n_neighbors': 3}\n"
     ]
    }
   ],
   "source": [
    "knn_pipe_2 = Pipeline([\n",
    "    ('vectorize', TfidfVectorizer(\n",
    "        stop_words=set(ENGLISH_STOP_WORDS),\n",
    "lowercase=True, max_features=10000)),\n",
    "('class', GridSearchCV(KNeighborsClassifier(), param_grid={\n",
    "        'n_neighbors': [1, 2, 3, 5, 7, 10]\n",
    "    }, n_jobs=NJOBS))\n",
    "])\n",
    "knn_pipe_2.fit(movies_tall_df['script'], movies_tall_df['genres'])\n",
    "print(knn_pipe_2.named_steps['class'].best_params_)"
   ]
  },
  {
   "cell_type": "code",
   "execution_count": 24,
   "metadata": {},
   "outputs": [
    {
     "name": "stdout",
     "output_type": "stream",
     "text": [
      "0.33548684817720353\n"
     ]
    }
   ],
   "source": [
    "pred_train_k10 = knn_pipe_2.predict(movies_tall_df['script'])\n",
    "knn_10_accuracy_train = accuracy_score(movies_tall_df['genres'], pred_train_k10)\n",
    "print(knn_10_accuracy_train)"
   ]
  },
  {
   "cell_type": "markdown",
   "metadata": {},
   "source": [
    "With 3 neighbors, the model increased its accuracy to 33.5%. That's definitely better!"
   ]
  },
  {
   "cell_type": "markdown",
   "metadata": {},
   "source": [
    "### OneVsRestClassifier\n",
    "\n",
    "Let's see how a `OneVsRestClassifier` performs on our training data."
   ]
  },
  {
   "cell_type": "code",
   "execution_count": 25,
   "metadata": {},
   "outputs": [],
   "source": [
    "genres = ['Action', 'Adventure', 'Animation', 'Children'\n",
    "    , 'Comedy', 'Crime', 'Documentary', 'Drama', 'Fantasy', 'Film-Noir', 'Horror', 'IMAX'\n",
    "    , 'Musical', 'Mystery', 'Romance', 'Sci-Fi', 'Thriller', 'War', 'Western']"
   ]
  },
  {
   "cell_type": "markdown",
   "metadata": {},
   "source": [
    "#### Naïve Bayes"
   ]
  },
  {
   "cell_type": "code",
   "execution_count": 26,
   "metadata": {},
   "outputs": [
    {
     "name": "stdout",
     "output_type": "stream",
     "text": [
      "Genre             Score\n",
      "Action         0.76056338\n",
      "Adventure      0.86854460\n",
      "Animation      0.95305164\n",
      "Children       0.93896714\n",
      "Comedy         0.62441315\n",
      "Crime          0.81690141\n",
      "Documentary    1.00000000\n",
      "Drama          0.63849765\n",
      "Fantasy        0.91549296\n",
      "Film-Noir      0.98591549\n",
      "Horror         0.89671362\n",
      "IMAX           0.98122066\n",
      "Musical        0.97183099\n",
      "Mystery        0.93427230\n",
      "Romance        0.80751174\n",
      "Sci-Fi         0.86384977\n",
      "Thriller       0.73239437\n",
      "War            0.96244131\n",
      "Western        0.99061033\n"
     ]
    }
   ],
   "source": [
    "train_accuracy_nb = []\n",
    "test_accuracy_nb = []\n",
    "\n",
    "NB_pipeline = Pipeline([\n",
    "                ('tfidf', TfidfVectorizer(\n",
    "                    lowercase=True,\n",
    "                    max_features=10000,\n",
    "                    stop_words=set(ENGLISH_STOP_WORDS)\n",
    "                    )),\n",
    "                ('clf', OneVsRestClassifier(MultinomialNB(\n",
    "                    fit_prior=True, class_prior=None)\n",
    "                    )),\n",
    "            ])\n",
    "print('{0: <15}'.format('Genre') + '{0: >8}'.format('Score'))\n",
    "for genre in genres:\n",
    "    # train the model using movie scripts and genres\n",
    "    NB_pipeline.fit(train['script'], train[genre])\n",
    "    # find accuracy on training data\n",
    "    train_pred = NB_pipeline.predict(train['script'])\n",
    "    train_accuracy_nb.append(accuracy_score(train[genre], train_pred))\n",
    "    test_pred = NB_pipeline.predict(test['script'])\n",
    "    test_accuracy_nb.append(accuracy_score(test[genre], test_pred))\n",
    "    print('{0: <15}'.format(genre) + '{0: >10}'.format(\"%.8f\" % accuracy_score(test[genre], test_pred)))"
   ]
  },
  {
   "cell_type": "markdown",
   "metadata": {},
   "source": [
    "Let's plot the train accuracy against the test accuracy for each genre and see how the model performed."
   ]
  },
  {
   "cell_type": "code",
   "execution_count": 27,
   "metadata": {},
   "outputs": [
    {
     "data": {
      "text/plain": [
       "<AxesSubplot:title={'center':'MultiNomial Naive Bayes Accuracy for Genres'}>"
      ]
     },
     "execution_count": 27,
     "metadata": {},
     "output_type": "execute_result"
    },
    {
     "data": {
      "image/png": "[encoded data removed]",
      "text/plain": [
       "<Figure size 432x288 with 1 Axes>"
      ]
     },
     "metadata": {
      "needs_background": "light"
     },
     "output_type": "display_data"
    }
   ],
   "source": [
    "summary_data_nb = {'genre': ['Action', 'Action', 'Adventure', 'Adventure', 'Animation', 'Animation', 'Children', 'Children'\n",
    "    , 'Comedy', 'Comedy', 'Crime', 'Crime', 'Documentary', 'Documentary', 'Drama', 'Drama', 'Fantasy', 'Fantasy', 'Film-Noir', 'Film-Noir', 'Horror', 'Horror', 'IMAX', 'IMAX'\n",
    "    , 'Musical', 'Musical', 'Mystery', 'Mystery', 'Romance', 'Romance', 'Sci-Fi', 'Sci-Fi', 'Thriller', 'Thriller', 'War', 'War', 'Western', 'Western'],\n",
    "'data': ['train', 'test', 'train', 'test', 'train', 'test', 'train', 'test', 'train', 'test', 'train', 'test', 'train', 'test', 'train', 'test', 'train', 'test', 'train'\n",
    "    , 'test', 'train', 'test', 'train', 'test', 'train', 'test', 'train', 'test', 'train', 'test', 'train', 'test', 'train', 'test', 'train', 'test', 'train', 'test'],\n",
    "'accuracy': []\n",
    "}\n",
    "\n",
    "for i in range(0, len(test_accuracy_nb)):\n",
    "    summary_data_nb['accuracy'].append(train_accuracy_nb[i])\n",
    "    summary_data_nb['accuracy'].append(test_accuracy_nb[i])\n",
    "\n",
    "summary_plot_nb = sns.barplot(data=summary_data_nb, y='genre', x='accuracy', hue='data')\n",
    "summary_plot_nb.set(title='MultiNomial Naive Bayes Accuracy for Genres', xlim=(0.5, 1.0))\n",
    "summary_plot_nb"
   ]
  },
  {
   "cell_type": "markdown",
   "metadata": {},
   "source": [
    "That looks much better! "
   ]
  },
  {
   "cell_type": "markdown",
   "metadata": {},
   "source": [
    "#### Linear with Stochastic Gradient Descent\n",
    "\n",
    "Now, instead of using Naïve Bayes, let's use a linear model with stochastic gradient descent learning (`SGDClassifier`) with a loss function (`modified_huber`) and a penalty (`elasticnet`). "
   ]
  },
  {
   "cell_type": "code",
   "execution_count": 28,
   "metadata": {},
   "outputs": [
    {
     "name": "stdout",
     "output_type": "stream",
     "text": [
      "Genre             Score\n",
      "Action         0.74178404\n",
      "Adventure      0.81690141\n",
      "Animation      0.96244131\n",
      "Children       0.93896714\n",
      "Comedy         0.62910798\n",
      "Crime          0.79812207\n",
      "Documentary    1.00000000\n",
      "Drama          0.63380282\n",
      "Fantasy        0.91549296\n",
      "Film-Noir      0.98591549\n",
      "Horror         0.86384977\n",
      "IMAX           0.98122066\n",
      "Musical        0.96713615\n",
      "Mystery        0.92488263\n",
      "Romance        0.77464789\n",
      "Sci-Fi         0.83568075\n",
      "Thriller       0.65727700\n",
      "War            0.96244131\n",
      "Western        0.99061033\n"
     ]
    }
   ],
   "source": [
    "train_accuracy_sgd = []\n",
    "test_accuracy_sgd = []\n",
    "\n",
    "sgd_pipeline = Pipeline([\n",
    "                ('tfidf', TfidfVectorizer(\n",
    "                    lowercase=True,\n",
    "                    max_features=10000,\n",
    "                    stop_words=set(ENGLISH_STOP_WORDS)\n",
    "                )),\n",
    "                ('clf', OneVsRestClassifier(SGDClassifier(loss='modified_huber', penalty='elasticnet')))\n",
    "            ])\n",
    "print('{0: <15}'.format('Genre') + '{0: >8}'.format('Score'))\n",
    "for genre in genres:\n",
    "    # train the model using movie scripts and genres\n",
    "    sgd_pipeline.fit(train['script'], train[genre])\n",
    "    # find accuracy on training data\n",
    "    train_pred = sgd_pipeline.predict(train['script'])\n",
    "    train_accuracy_sgd.append(accuracy_score(train[genre], train_pred))\n",
    "    test_pred = sgd_pipeline.predict(test['script'])\n",
    "    test_accuracy_sgd.append(accuracy_score(test[genre], test_pred))\n",
    "    print('{0: <15}'.format(genre) + '{0: >10}'.format(\"%.8f\" % accuracy_score(test[genre], test_pred)))"
   ]
  },
  {
   "cell_type": "code",
   "execution_count": 29,
   "metadata": {},
   "outputs": [
    {
     "data": {
      "text/plain": [
       "<AxesSubplot:title={'center':'Linear Model with SGD Learning'}>"
      ]
     },
     "execution_count": 29,
     "metadata": {},
     "output_type": "execute_result"
    },
    {
     "data": {
      "image/png": "[encoded data removed]",
      "text/plain": [
       "<Figure size 432x288 with 1 Axes>"
      ]
     },
     "metadata": {
      "needs_background": "light"
     },
     "output_type": "display_data"
    }
   ],
   "source": [
    "summary_data_sgd = {'genre': ['Action', 'Action', 'Adventure', 'Adventure', 'Animation', 'Animation', 'Children', 'Children'\n",
    "    , 'Comedy', 'Comedy', 'Crime', 'Crime', 'Documentary', 'Documentary', 'Drama', 'Drama', 'Fantasy', 'Fantasy', 'Film-Noir', 'Film-Noir', 'Horror', 'Horror', 'IMAX', 'IMAX'\n",
    "    , 'Musical', 'Musical', 'Mystery', 'Mystery', 'Romance', 'Romance', 'Sci-Fi', 'Sci-Fi', 'Thriller', 'Thriller', 'War', 'War', 'Western', 'Western'],\n",
    "'data': ['train', 'test', 'train', 'test', 'train', 'test', 'train', 'test', 'train', 'test', 'train', 'test', 'train', 'test', 'train', 'test', 'train', 'test', 'train'\n",
    "    , 'test', 'train', 'test', 'train', 'test', 'train', 'test', 'train', 'test', 'train', 'test', 'train', 'test', 'train', 'test', 'train', 'test', 'train', 'test'],\n",
    "'accuracy': []\n",
    "}\n",
    "\n",
    "for i in range(0, len(test_accuracy_sgd)):\n",
    "    summary_data_sgd['accuracy'].append(train_accuracy_sgd[i])\n",
    "    summary_data_sgd['accuracy'].append(test_accuracy_sgd[i])\n",
    "\n",
    "summary_plot_sgd = sns.barplot(data=summary_data_sgd, y='genre', x='accuracy', hue='data')\n",
    "summary_plot_sgd.set(title='Linear Model with SGD Learning', xlim=(0.5, 1.0))\n",
    "summary_plot_sgd"
   ]
  },
  {
   "cell_type": "markdown",
   "metadata": {},
   "source": [
    "It looks like there's some serious overfitting with the stochastic gradient descent model. The accuracy on that training data is immense."
   ]
  },
  {
   "cell_type": "markdown",
   "metadata": {},
   "source": [
    "#### Logistic Regression with SVD-Transformed Texts\n",
    "\n",
    "Lastly, let's use an SVD decomposition and `GridSearchCV` to identify the number of dimensions for our model."
   ]
  },
  {
   "cell_type": "code",
   "execution_count": 30,
   "metadata": {},
   "outputs": [
    {
     "name": "stdout",
     "output_type": "stream",
     "text": [
      "Genre             Score\n",
      "Action         0.76056338\n",
      "Adventure      0.86854460\n",
      "Animation      0.95305164\n",
      "Children       0.93896714\n",
      "Comedy         0.63380282\n",
      "Crime          0.81690141\n",
      "Documentary    1.00000000\n",
      "Drama          0.55868545\n",
      "Fantasy        0.91549296\n",
      "Film-Noir      0.98591549\n",
      "Horror         0.89671362\n",
      "IMAX           0.98122066\n",
      "Musical        0.97183099\n",
      "Mystery        0.93427230\n",
      "Romance        0.80751174\n",
      "Sci-Fi         0.86384977\n",
      "Thriller       0.73239437\n",
      "War            0.96244131\n",
      "Western        0.99061033\n"
     ]
    }
   ],
   "source": [
    "train_accuracy_logreg_svd = []\n",
    "test_accuracy_logreg_svd = []\n",
    "\n",
    "svd_logreg_inner = Pipeline([\n",
    "    ('latent', TruncatedSVD(random_state=rng)),\n",
    "    ('clf', OneVsRestClassifier(LogisticRegression(solver='sag'), n_jobs=NJOBS))\n",
    "])\n",
    "svd_logreg = Pipeline([\n",
    "    ('vectorize', TfidfVectorizer(\n",
    "        stop_words=ENGLISH_STOP_WORDS, \n",
    "        max_features=10000,\n",
    "        lowercase=True\n",
    "        )), \n",
    "    ('class', GridSearchCV(svd_logreg_inner, param_grid={\n",
    "        'latent__n_components': range(1, 50),\n",
    "    }, n_jobs=NJOBS))\n",
    "])\n",
    "print('{0: <15}'.format('Genre') + '{0: >8}'.format('Score'))\n",
    "for genre in genres:\n",
    "    # train the model using movie scripts and genres\n",
    "    svd_logreg.fit(train['script'], train[genre])\n",
    "    # find accuracy on training data\n",
    "    train_pred = svd_logreg.predict(train['script'])\n",
    "    train_accuracy_logreg_svd.append(accuracy_score(train[genre], train_pred))\n",
    "    test_pred = svd_logreg.predict(test['script'])\n",
    "    test_accuracy_logreg_svd.append(accuracy_score(test[genre], test_pred))\n",
    "    print('{0: <15}'.format(genre) + '{0: >10}'.format(\"%.8f\" % accuracy_score(test[genre], test_pred)))"
   ]
  },
  {
   "cell_type": "code",
   "execution_count": 31,
   "metadata": {},
   "outputs": [
    {
     "data": {
      "text/plain": [
       "<AxesSubplot:title={'center':'Logistic Regression SVD Accuracy'}>"
      ]
     },
     "execution_count": 31,
     "metadata": {},
     "output_type": "execute_result"
    },
    {
     "data": {
      "image/png": "[encoded data removed]",
      "text/plain": [
       "<Figure size 432x288 with 1 Axes>"
      ]
     },
     "metadata": {
      "needs_background": "light"
     },
     "output_type": "display_data"
    }
   ],
   "source": [
    "summary_data_logreg_svd = {'genre': ['Action', 'Action', 'Adventure', 'Adventure', 'Animation', 'Animation', 'Children', 'Children'\n",
    "    , 'Comedy', 'Comedy', 'Crime', 'Crime', 'Documentary', 'Documentary', 'Drama', 'Drama', 'Fantasy', 'Fantasy', 'Film-Noir', 'Film-Noir', 'Horror', 'Horror', 'IMAX', 'IMAX'\n",
    "    , 'Musical', 'Musical', 'Mystery', 'Mystery', 'Romance', 'Romance', 'Sci-Fi', 'Sci-Fi', 'Thriller', 'Thriller', 'War', 'War', 'Western', 'Western'],\n",
    "'data': ['train', 'test', 'train', 'test', 'train', 'test', 'train', 'test', 'train', 'test', 'train', 'test', 'train', 'test', 'train', 'test', 'train', 'test', 'train'\n",
    "    , 'test', 'train', 'test', 'train', 'test', 'train', 'test', 'train', 'test', 'train', 'test', 'train', 'test', 'train', 'test', 'train', 'test', 'train', 'test'],\n",
    "'accuracy': []\n",
    "}\n",
    "\n",
    "for i in range(0, len(test_accuracy_nb)):\n",
    "    summary_data_logreg_svd['accuracy'].append(train_accuracy_logreg_svd[i])\n",
    "    summary_data_logreg_svd['accuracy'].append(test_accuracy_logreg_svd[i])\n",
    "\n",
    "summary_plot_logreg_svd = sns.barplot(data=summary_data_logreg_svd, y='genre', x='accuracy', hue='data')\n",
    "summary_plot_logreg_svd.set(title='Logistic Regression SVD Accuracy', xlim=(0.5, 1.0))\n",
    "summary_plot_logreg_svd"
   ]
  },
  {
   "cell_type": "markdown",
   "metadata": {},
   "source": [
    "## Accuracy Summary"
   ]
  },
  {
   "cell_type": "markdown",
   "metadata": {},
   "source": [
    "The accuracies on each of these models seem to be fairly consistent. The only genre that seems to have a really different prediction between Naive Bayes and Logistic SVD is Drama. Naive Bayes does a better job predicting on the test set.\n",
    "\n",
    "The models were able to predict genres like `Documentary` and `Film-Noir` much better than the rest of the categories. That's probably because of how different the vocabulary used in those films are compared to everything else. Drama definitely performed the worst. I suspect the scripts in that genre have words in common with numerous other categories so it's not as easy to identify a film as `Drama` just by its script."
   ]
  },
  {
   "cell_type": "code",
   "execution_count": 32,
   "metadata": {},
   "outputs": [
    {
     "name": "stdout",
     "output_type": "stream",
     "text": [
      "Genre              Naive Bayes     Linear SGD   Logistic SVD\n",
      "Action                 0.76056        0.74178        0.76056\n",
      "Adventure              0.86854        0.81690        0.86854\n",
      "Animation              0.95305        0.96244        0.95305\n",
      "Children               0.93897        0.93897        0.93897\n",
      "Comedy                 0.62441        0.62911        0.63380\n",
      "Crime                  0.81690        0.79812        0.81690\n",
      "Documentary            1.00000        1.00000        1.00000\n",
      "Drama                  0.63850        0.63380        0.55869\n",
      "Fantasy                0.91549        0.91549        0.91549\n",
      "Film-Noir              0.98592        0.98592        0.98592\n",
      "Horror                 0.89671        0.86385        0.89671\n",
      "IMAX                   0.98122        0.98122        0.98122\n",
      "Musical                0.97183        0.96714        0.97183\n",
      "Mystery                0.93427        0.92488        0.93427\n",
      "Romance                0.80751        0.77465        0.80751\n",
      "Sci-Fi                 0.86385        0.83568        0.86385\n",
      "Thriller               0.73239        0.65728        0.73239\n",
      "War                    0.96244        0.96244        0.96244\n",
      "Western                0.99061        0.99061        0.99061\n"
     ]
    }
   ],
   "source": [
    "print('{0: <15}'.format('Genre') + '{0: >15}'.format('Naive Bayes') + '{0: >15}'.format('Linear SGD') + '{0: >15}'.format('Logistic SVD'))\n",
    "for i in range(0, len(genres)):\n",
    "    print('{0: <15}'.format(genres[i]) + '{0: >15}'.format(\"%.5f\" % test_accuracy_nb[i])\n",
    "        + '{0: >15}'.format(\"%.5f\" % test_accuracy_sgd[i])\n",
    "            + '{0: >15}'.format(\"%.5f\" % test_accuracy_logreg_svd[i]))"
   ]
  },
  {
   "cell_type": "markdown",
   "metadata": {},
   "source": [
    "## Sources\n",
    "\n",
    "- The Movie Database: https://www.themoviedb.org/ \n",
    "- MovieLens: https://grouplens.org/datasets/movielens/25m/\n",
    "- IMSDB: https://imsdb.com\n",
    "- Aveek Saha's Movie Script Database: https://github.com/Aveek-Saha/Movie-Script-Database\n",
    "- SciKit-Learn Docs: https://scikit-learn.org/stable/modules/multiclass.html#ovr-classification"
   ]
  }
 ],
 "metadata": {
  "kernelspec": {
   "display_name": "Python 3",
   "language": "python",
   "name": "python3"
  },
  "language_info": {
   "codemirror_mode": {
    "name": "ipython",
    "version": 3
   },
   "file_extension": ".py",
   "mimetype": "text/x-python",
   "name": "python",
   "nbconvert_exporter": "python",
   "pygments_lexer": "ipython3",
   "version": "3.8.8"
  },
  "toc": {
   "base_numbering": 1,
   "nav_menu": {},
   "number_sections": true,
   "sideBar": true,
   "skip_h1_title": true,
   "title_cell": "Table of Contents",
   "title_sidebar": "Contents",
   "toc_cell": false,
   "toc_position": {},
   "toc_section_display": true,
   "toc_window_display": true
  }
 },
 "nbformat": 4,
 "nbformat_minor": 2
}
